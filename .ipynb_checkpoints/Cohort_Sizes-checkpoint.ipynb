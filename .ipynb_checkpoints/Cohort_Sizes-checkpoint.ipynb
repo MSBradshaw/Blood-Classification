{
 "cells": [
  {
   "cell_type": "markdown",
   "metadata": {},
   "source": [
    "# Classifying blood plasma and blood serum with increasing training set size (Fig6)"
   ]
  },
  {
   "cell_type": "code",
   "execution_count": 1,
   "metadata": {},
   "outputs": [],
   "source": [
    "import Classification_Utils as cu\n",
    "import matplotlib.pyplot as plt\n",
    "import numpy as np\n",
    "import pandas as pd\n",
    "from sklearn.model_selection import learning_curve, StratifiedShuffleSplit\n",
    "from sklearn.linear_model import LogisticRegression\n",
    "from sklearn.naive_bayes import GaussianNB, MultinomialNB\n",
    "from sklearn.neighbors import KNeighborsClassifier\n",
    "from sklearn.ensemble import ExtraTreesClassifier, GradientBoostingClassifier, RandomForestClassifier\n",
    "from sklearn.svm import SVC\n",
    "from sklearn.preprocessing import MinMaxScaler, StandardScaler"
   ]
  },
  {
   "cell_type": "code",
   "execution_count": 2,
   "metadata": {},
   "outputs": [],
   "source": [
    "BINARY = True"
   ]
  },
  {
   "cell_type": "markdown",
   "metadata": {},
   "source": [
    "## Load and clean data"
   ]
  },
  {
   "cell_type": "code",
   "execution_count": 3,
   "metadata": {},
   "outputs": [
    {
     "ename": "FileNotFoundError",
     "evalue": "File b'SerumPlasmaPeptideQuant.txt' does not exist",
     "output_type": "error",
     "traceback": [
      "\u001b[1;31m---------------------------------------------------------------------------\u001b[0m",
      "\u001b[1;31mFileNotFoundError\u001b[0m                         Traceback (most recent call last)",
      "\u001b[1;32m<ipython-input-3-abceaad738db>\u001b[0m in \u001b[0;36m<module>\u001b[1;34m()\u001b[0m\n\u001b[1;32m----> 1\u001b[1;33m \u001b[0mdf\u001b[0m \u001b[1;33m=\u001b[0m \u001b[0mpd\u001b[0m\u001b[1;33m.\u001b[0m\u001b[0mread_csv\u001b[0m\u001b[1;33m(\u001b[0m\u001b[1;34m'SerumPlasmaPeptideQuant.txt'\u001b[0m\u001b[1;33m,\u001b[0m \u001b[0msep\u001b[0m\u001b[1;33m=\u001b[0m\u001b[1;34m'\\t'\u001b[0m\u001b[1;33m,\u001b[0m \u001b[0mindex_col\u001b[0m\u001b[1;33m=\u001b[0m\u001b[1;34m'Peptide'\u001b[0m\u001b[1;33m)\u001b[0m\u001b[1;33m\u001b[0m\u001b[0m\n\u001b[0m\u001b[0;32m      2\u001b[0m \u001b[0mprint\u001b[0m\u001b[1;33m(\u001b[0m\u001b[0mdf\u001b[0m\u001b[1;33m.\u001b[0m\u001b[0mshape\u001b[0m\u001b[1;33m)\u001b[0m\u001b[1;33m\u001b[0m\u001b[0m\n",
      "\u001b[1;32mC:\\ProgramData\\Anaconda3\\lib\\site-packages\\pandas\\io\\parsers.py\u001b[0m in \u001b[0;36mparser_f\u001b[1;34m(filepath_or_buffer, sep, delimiter, header, names, index_col, usecols, squeeze, prefix, mangle_dupe_cols, dtype, engine, converters, true_values, false_values, skipinitialspace, skiprows, nrows, na_values, keep_default_na, na_filter, verbose, skip_blank_lines, parse_dates, infer_datetime_format, keep_date_col, date_parser, dayfirst, iterator, chunksize, compression, thousands, decimal, lineterminator, quotechar, quoting, escapechar, comment, encoding, dialect, tupleize_cols, error_bad_lines, warn_bad_lines, skipfooter, doublequote, delim_whitespace, low_memory, memory_map, float_precision)\u001b[0m\n\u001b[0;32m    676\u001b[0m                     skip_blank_lines=skip_blank_lines)\n\u001b[0;32m    677\u001b[0m \u001b[1;33m\u001b[0m\u001b[0m\n\u001b[1;32m--> 678\u001b[1;33m         \u001b[1;32mreturn\u001b[0m \u001b[0m_read\u001b[0m\u001b[1;33m(\u001b[0m\u001b[0mfilepath_or_buffer\u001b[0m\u001b[1;33m,\u001b[0m \u001b[0mkwds\u001b[0m\u001b[1;33m)\u001b[0m\u001b[1;33m\u001b[0m\u001b[0m\n\u001b[0m\u001b[0;32m    679\u001b[0m \u001b[1;33m\u001b[0m\u001b[0m\n\u001b[0;32m    680\u001b[0m     \u001b[0mparser_f\u001b[0m\u001b[1;33m.\u001b[0m\u001b[0m__name__\u001b[0m \u001b[1;33m=\u001b[0m \u001b[0mname\u001b[0m\u001b[1;33m\u001b[0m\u001b[0m\n",
      "\u001b[1;32mC:\\ProgramData\\Anaconda3\\lib\\site-packages\\pandas\\io\\parsers.py\u001b[0m in \u001b[0;36m_read\u001b[1;34m(filepath_or_buffer, kwds)\u001b[0m\n\u001b[0;32m    438\u001b[0m \u001b[1;33m\u001b[0m\u001b[0m\n\u001b[0;32m    439\u001b[0m     \u001b[1;31m# Create the parser.\u001b[0m\u001b[1;33m\u001b[0m\u001b[1;33m\u001b[0m\u001b[0m\n\u001b[1;32m--> 440\u001b[1;33m     \u001b[0mparser\u001b[0m \u001b[1;33m=\u001b[0m \u001b[0mTextFileReader\u001b[0m\u001b[1;33m(\u001b[0m\u001b[0mfilepath_or_buffer\u001b[0m\u001b[1;33m,\u001b[0m \u001b[1;33m**\u001b[0m\u001b[0mkwds\u001b[0m\u001b[1;33m)\u001b[0m\u001b[1;33m\u001b[0m\u001b[0m\n\u001b[0m\u001b[0;32m    441\u001b[0m \u001b[1;33m\u001b[0m\u001b[0m\n\u001b[0;32m    442\u001b[0m     \u001b[1;32mif\u001b[0m \u001b[0mchunksize\u001b[0m \u001b[1;32mor\u001b[0m \u001b[0miterator\u001b[0m\u001b[1;33m:\u001b[0m\u001b[1;33m\u001b[0m\u001b[0m\n",
      "\u001b[1;32mC:\\ProgramData\\Anaconda3\\lib\\site-packages\\pandas\\io\\parsers.py\u001b[0m in \u001b[0;36m__init__\u001b[1;34m(self, f, engine, **kwds)\u001b[0m\n\u001b[0;32m    785\u001b[0m             \u001b[0mself\u001b[0m\u001b[1;33m.\u001b[0m\u001b[0moptions\u001b[0m\u001b[1;33m[\u001b[0m\u001b[1;34m'has_index_names'\u001b[0m\u001b[1;33m]\u001b[0m \u001b[1;33m=\u001b[0m \u001b[0mkwds\u001b[0m\u001b[1;33m[\u001b[0m\u001b[1;34m'has_index_names'\u001b[0m\u001b[1;33m]\u001b[0m\u001b[1;33m\u001b[0m\u001b[0m\n\u001b[0;32m    786\u001b[0m \u001b[1;33m\u001b[0m\u001b[0m\n\u001b[1;32m--> 787\u001b[1;33m         \u001b[0mself\u001b[0m\u001b[1;33m.\u001b[0m\u001b[0m_make_engine\u001b[0m\u001b[1;33m(\u001b[0m\u001b[0mself\u001b[0m\u001b[1;33m.\u001b[0m\u001b[0mengine\u001b[0m\u001b[1;33m)\u001b[0m\u001b[1;33m\u001b[0m\u001b[0m\n\u001b[0m\u001b[0;32m    788\u001b[0m \u001b[1;33m\u001b[0m\u001b[0m\n\u001b[0;32m    789\u001b[0m     \u001b[1;32mdef\u001b[0m \u001b[0mclose\u001b[0m\u001b[1;33m(\u001b[0m\u001b[0mself\u001b[0m\u001b[1;33m)\u001b[0m\u001b[1;33m:\u001b[0m\u001b[1;33m\u001b[0m\u001b[0m\n",
      "\u001b[1;32mC:\\ProgramData\\Anaconda3\\lib\\site-packages\\pandas\\io\\parsers.py\u001b[0m in \u001b[0;36m_make_engine\u001b[1;34m(self, engine)\u001b[0m\n\u001b[0;32m   1012\u001b[0m     \u001b[1;32mdef\u001b[0m \u001b[0m_make_engine\u001b[0m\u001b[1;33m(\u001b[0m\u001b[0mself\u001b[0m\u001b[1;33m,\u001b[0m \u001b[0mengine\u001b[0m\u001b[1;33m=\u001b[0m\u001b[1;34m'c'\u001b[0m\u001b[1;33m)\u001b[0m\u001b[1;33m:\u001b[0m\u001b[1;33m\u001b[0m\u001b[0m\n\u001b[0;32m   1013\u001b[0m         \u001b[1;32mif\u001b[0m \u001b[0mengine\u001b[0m \u001b[1;33m==\u001b[0m \u001b[1;34m'c'\u001b[0m\u001b[1;33m:\u001b[0m\u001b[1;33m\u001b[0m\u001b[0m\n\u001b[1;32m-> 1014\u001b[1;33m             \u001b[0mself\u001b[0m\u001b[1;33m.\u001b[0m\u001b[0m_engine\u001b[0m \u001b[1;33m=\u001b[0m \u001b[0mCParserWrapper\u001b[0m\u001b[1;33m(\u001b[0m\u001b[0mself\u001b[0m\u001b[1;33m.\u001b[0m\u001b[0mf\u001b[0m\u001b[1;33m,\u001b[0m \u001b[1;33m**\u001b[0m\u001b[0mself\u001b[0m\u001b[1;33m.\u001b[0m\u001b[0moptions\u001b[0m\u001b[1;33m)\u001b[0m\u001b[1;33m\u001b[0m\u001b[0m\n\u001b[0m\u001b[0;32m   1015\u001b[0m         \u001b[1;32melse\u001b[0m\u001b[1;33m:\u001b[0m\u001b[1;33m\u001b[0m\u001b[0m\n\u001b[0;32m   1016\u001b[0m             \u001b[1;32mif\u001b[0m \u001b[0mengine\u001b[0m \u001b[1;33m==\u001b[0m \u001b[1;34m'python'\u001b[0m\u001b[1;33m:\u001b[0m\u001b[1;33m\u001b[0m\u001b[0m\n",
      "\u001b[1;32mC:\\ProgramData\\Anaconda3\\lib\\site-packages\\pandas\\io\\parsers.py\u001b[0m in \u001b[0;36m__init__\u001b[1;34m(self, src, **kwds)\u001b[0m\n\u001b[0;32m   1706\u001b[0m         \u001b[0mkwds\u001b[0m\u001b[1;33m[\u001b[0m\u001b[1;34m'usecols'\u001b[0m\u001b[1;33m]\u001b[0m \u001b[1;33m=\u001b[0m \u001b[0mself\u001b[0m\u001b[1;33m.\u001b[0m\u001b[0musecols\u001b[0m\u001b[1;33m\u001b[0m\u001b[0m\n\u001b[0;32m   1707\u001b[0m \u001b[1;33m\u001b[0m\u001b[0m\n\u001b[1;32m-> 1708\u001b[1;33m         \u001b[0mself\u001b[0m\u001b[1;33m.\u001b[0m\u001b[0m_reader\u001b[0m \u001b[1;33m=\u001b[0m \u001b[0mparsers\u001b[0m\u001b[1;33m.\u001b[0m\u001b[0mTextReader\u001b[0m\u001b[1;33m(\u001b[0m\u001b[0msrc\u001b[0m\u001b[1;33m,\u001b[0m \u001b[1;33m**\u001b[0m\u001b[0mkwds\u001b[0m\u001b[1;33m)\u001b[0m\u001b[1;33m\u001b[0m\u001b[0m\n\u001b[0m\u001b[0;32m   1709\u001b[0m \u001b[1;33m\u001b[0m\u001b[0m\n\u001b[0;32m   1710\u001b[0m         \u001b[0mpassed_names\u001b[0m \u001b[1;33m=\u001b[0m \u001b[0mself\u001b[0m\u001b[1;33m.\u001b[0m\u001b[0mnames\u001b[0m \u001b[1;32mis\u001b[0m \u001b[1;32mNone\u001b[0m\u001b[1;33m\u001b[0m\u001b[0m\n",
      "\u001b[1;32mpandas\\_libs\\parsers.pyx\u001b[0m in \u001b[0;36mpandas._libs.parsers.TextReader.__cinit__\u001b[1;34m()\u001b[0m\n",
      "\u001b[1;32mpandas\\_libs\\parsers.pyx\u001b[0m in \u001b[0;36mpandas._libs.parsers.TextReader._setup_parser_source\u001b[1;34m()\u001b[0m\n",
      "\u001b[1;31mFileNotFoundError\u001b[0m: File b'SerumPlasmaPeptideQuant.txt' does not exist"
     ]
    }
   ],
   "source": [
    "df = pd.read_csv('SerumPlasmaPeptideQuant.txt', sep='\\t', index_col='Peptide')\n",
    "print(df.shape)"
   ]
  },
  {
   "cell_type": "markdown",
   "metadata": {},
   "source": [
    "## Map each column to a corresponding label"
   ]
  },
  {
   "cell_type": "code",
   "execution_count": 20,
   "metadata": {
    "collapsed": true
   },
   "outputs": [],
   "source": [
    "tissues = ['Blood_Plasma', 'Blood_Serum']\n",
    "tissues_to_columns = cu.map_tissues_to_columns(df, tissues)"
   ]
  },
  {
   "cell_type": "code",
   "execution_count": 21,
   "metadata": {
    "collapsed": true
   },
   "outputs": [],
   "source": [
    "column_names = df.columns.values.tolist()\n",
    "labels = cu.get_labels(column_names, tissues_to_columns)"
   ]
  },
  {
   "cell_type": "markdown",
   "metadata": {},
   "source": [
    "## Reduce dataframe to smaller number of peptides"
   ]
  },
  {
   "cell_type": "code",
   "execution_count": 22,
   "metadata": {
    "collapsed": true
   },
   "outputs": [],
   "source": [
    "import math\n",
    "\n",
    "def keep_percentile_peptides(df, labels, tissues, percentile, impute_val):\n",
    "    \n",
    "    df = df.T\n",
    "    tissue_dfs = []\n",
    "    \n",
    "    for tissue in tissues:\n",
    "        cols_to_drop = [col for col in df.columns.values if not col.startswith(tissue)]\n",
    "        tissue_df = df.drop(cols_to_drop, axis=1)\n",
    "        \n",
    "        ### Drop rows with nothing observed\n",
    "        tissue_df.replace(impute_val, np.nan, inplace=True)\n",
    "        tissue_df.dropna(axis=0, how='all', inplace=True)\n",
    "        tissue_df.replace(np.nan, impute_val, inplace=True)\n",
    "        \n",
    "        peptide_mean_abundances = tissue_df.mean(axis=1) # pandas series\n",
    "\n",
    "        # sort by average abundance value, drop below threshold\n",
    "        peptide_mean_abundances.sort_values(ascending=False, inplace=True)\n",
    "        num_peptides_to_keep = math.ceil(len(peptide_mean_abundances) * percentile/100)\n",
    "        peptides_to_drop = peptide_mean_abundances[num_peptides_to_keep:].index.values\n",
    "        \n",
    "        tissue_df.drop(peptides_to_drop, axis=0, inplace=True)\n",
    "        \n",
    "        tissue_dfs.append(tissue_df)\n",
    "        \n",
    "    # join dataframes\n",
    "    combined_df = pd.DataFrame()\n",
    "    for next_df in tissue_dfs:\n",
    "        combined_df = combined_df.join(next_df, how='outer')\n",
    "    \n",
    "    combined_df.replace(np.nan, impute_val, inplace=True)\n",
    "        \n",
    "    return combined_df.T"
   ]
  },
  {
   "cell_type": "code",
   "execution_count": 23,
   "metadata": {},
   "outputs": [
    {
     "name": "stdout",
     "output_type": "stream",
     "text": [
      "(9447, 119)\n",
      "(4983, 119)\n"
     ]
    }
   ],
   "source": [
    "imputed_val = df.mode().iloc[0, 0]\n",
    "\n",
    "print(df.shape)\n",
    "df = keep_percentile_peptides(df.T, labels, tissues, 45, imputed_val).T\n",
    "print(df.shape)"
   ]
  },
  {
   "cell_type": "code",
   "execution_count": 24,
   "metadata": {
    "collapsed": true
   },
   "outputs": [],
   "source": [
    "if BINARY:\n",
    "    df = cu.abundance_to_binary(df)\n",
    "    min_max_df = df\n",
    "else:\n",
    "    std_scaler = StandardScaler()\n",
    "    df = std_scaler.fit_transform(df)\n",
    "\n",
    "    min_max_scaler = MinMaxScaler()\n",
    "    min_max_df = min_max_scaler.fit_transform(df)"
   ]
  },
  {
   "cell_type": "code",
   "execution_count": 25,
   "metadata": {},
   "outputs": [
    {
     "data": {
      "text/html": [
       "<div>\n",
       "<style>\n",
       "    .dataframe thead tr:only-child th {\n",
       "        text-align: right;\n",
       "    }\n",
       "\n",
       "    .dataframe thead th {\n",
       "        text-align: left;\n",
       "    }\n",
       "\n",
       "    .dataframe tbody tr th {\n",
       "        vertical-align: top;\n",
       "    }\n",
       "</style>\n",
       "<table border=\"1\" class=\"dataframe\">\n",
       "  <thead>\n",
       "    <tr style=\"text-align: right;\">\n",
       "      <th></th>\n",
       "      <th>Blood_Plasma_47538_VC_600506_WP_7Dec10_Phoenix_10-09-32</th>\n",
       "      <th>Blood_Plasma_47538_VC_602095_WP_7Dec10_Phoenix_10-10-16</th>\n",
       "      <th>Blood_Plasma_47538_VC_602960_WP_3Dec10_Phoenix_10-09-32</th>\n",
       "      <th>Blood_Plasma_47538_VC_603081_WP_11Dec10_Phoenix_10-10-16</th>\n",
       "      <th>Blood_Plasma_47538_VC_603081_WP_13Dec10_Phoenix_10-10-16</th>\n",
       "      <th>Blood_Plasma_47538_VC_603347_WP_3Dec10_Phoenix_10-09-32</th>\n",
       "      <th>Blood_Plasma_47538_VC_603375_WP_3Dec10_Phoenix_10-09-32</th>\n",
       "      <th>Blood_Plasma_47538_VC_607573_WP_13Dec10_Phoenix_10-10-16</th>\n",
       "      <th>Blood_Plasma_47538_VC_607573_WP_3Dec10_Phoenix_10-10-16</th>\n",
       "      <th>Blood_Plasma_47538_VC_607986_WP_7Dec10_Phoenix_10-10-16</th>\n",
       "      <th>...</th>\n",
       "      <th>Blood_Serum_LSDF2_10-0005-05_Velo_B_15Sep11_Jaguar_11-06-28</th>\n",
       "      <th>Blood_Serum_LSDF2_10-0013-09_Velo_A_12Sep11_Jaguar_11-06-28</th>\n",
       "      <th>Blood_Serum_LSDF2_10-0013-09_Velo_B_12Sep11_Jaguar_11-06-28</th>\n",
       "      <th>Blood_Serum_LSDF2_10-0032-02_Velo_A_12Sep11_Jaguar_11-06-28</th>\n",
       "      <th>Blood_Serum_LSDF2_10-0196-09_Velo_A_12Sep11_Jaguar_11-06-28</th>\n",
       "      <th>Blood_Serum_LSDF2_10-0457-03_Velo_A_15Sep11_Jaguar_11-06-28</th>\n",
       "      <th>Blood_Serum_LSDF2_10-0523-08_Velo_A_20Sep11_Jaguar_11-06-28</th>\n",
       "      <th>Blood_Serum_LSDF2_10-0543-07_Velo_A_12Sep11_Jaguar_11-06-28</th>\n",
       "      <th>Blood_Serum_LSDF2_10-0718-05_Velo_A_20Sep11_Jaguar_11-06-28</th>\n",
       "      <th>Blood_Serum_LSDF2_10-1165-06_Velo_A_12Sep11_Jaguar_11-06-28</th>\n",
       "    </tr>\n",
       "    <tr>\n",
       "      <th>Peptide</th>\n",
       "      <th></th>\n",
       "      <th></th>\n",
       "      <th></th>\n",
       "      <th></th>\n",
       "      <th></th>\n",
       "      <th></th>\n",
       "      <th></th>\n",
       "      <th></th>\n",
       "      <th></th>\n",
       "      <th></th>\n",
       "      <th></th>\n",
       "      <th></th>\n",
       "      <th></th>\n",
       "      <th></th>\n",
       "      <th></th>\n",
       "      <th></th>\n",
       "      <th></th>\n",
       "      <th></th>\n",
       "      <th></th>\n",
       "      <th></th>\n",
       "      <th></th>\n",
       "    </tr>\n",
       "  </thead>\n",
       "  <tbody>\n",
       "    <tr>\n",
       "      <th>-.DIQM*TQSPSTLSASVGDR.V</th>\n",
       "      <td>0</td>\n",
       "      <td>0</td>\n",
       "      <td>0</td>\n",
       "      <td>0</td>\n",
       "      <td>0</td>\n",
       "      <td>0</td>\n",
       "      <td>0</td>\n",
       "      <td>1</td>\n",
       "      <td>0</td>\n",
       "      <td>0</td>\n",
       "      <td>...</td>\n",
       "      <td>1</td>\n",
       "      <td>0</td>\n",
       "      <td>0</td>\n",
       "      <td>1</td>\n",
       "      <td>0</td>\n",
       "      <td>0</td>\n",
       "      <td>0</td>\n",
       "      <td>0</td>\n",
       "      <td>1</td>\n",
       "      <td>0</td>\n",
       "    </tr>\n",
       "    <tr>\n",
       "      <th>-.DIQM*TQSPSTLSASVGDRVTITCR.A</th>\n",
       "      <td>0</td>\n",
       "      <td>0</td>\n",
       "      <td>0</td>\n",
       "      <td>0</td>\n",
       "      <td>0</td>\n",
       "      <td>0</td>\n",
       "      <td>0</td>\n",
       "      <td>0</td>\n",
       "      <td>0</td>\n",
       "      <td>0</td>\n",
       "      <td>...</td>\n",
       "      <td>0</td>\n",
       "      <td>0</td>\n",
       "      <td>0</td>\n",
       "      <td>0</td>\n",
       "      <td>0</td>\n",
       "      <td>0</td>\n",
       "      <td>0</td>\n",
       "      <td>0</td>\n",
       "      <td>0</td>\n",
       "      <td>0</td>\n",
       "    </tr>\n",
       "    <tr>\n",
       "      <th>-.DIQMTQSPSTLSASVGDR.V</th>\n",
       "      <td>1</td>\n",
       "      <td>1</td>\n",
       "      <td>1</td>\n",
       "      <td>1</td>\n",
       "      <td>1</td>\n",
       "      <td>1</td>\n",
       "      <td>1</td>\n",
       "      <td>1</td>\n",
       "      <td>1</td>\n",
       "      <td>1</td>\n",
       "      <td>...</td>\n",
       "      <td>1</td>\n",
       "      <td>1</td>\n",
       "      <td>1</td>\n",
       "      <td>1</td>\n",
       "      <td>0</td>\n",
       "      <td>1</td>\n",
       "      <td>0</td>\n",
       "      <td>0</td>\n",
       "      <td>1</td>\n",
       "      <td>0</td>\n",
       "    </tr>\n",
       "    <tr>\n",
       "      <th>-.LGEHNIDVLEGNEQFINAAR.I</th>\n",
       "      <td>0</td>\n",
       "      <td>0</td>\n",
       "      <td>0</td>\n",
       "      <td>0</td>\n",
       "      <td>0</td>\n",
       "      <td>0</td>\n",
       "      <td>0</td>\n",
       "      <td>0</td>\n",
       "      <td>0</td>\n",
       "      <td>0</td>\n",
       "      <td>...</td>\n",
       "      <td>0</td>\n",
       "      <td>0</td>\n",
       "      <td>0</td>\n",
       "      <td>0</td>\n",
       "      <td>0</td>\n",
       "      <td>0</td>\n",
       "      <td>0</td>\n",
       "      <td>0</td>\n",
       "      <td>0</td>\n",
       "      <td>0</td>\n",
       "    </tr>\n",
       "    <tr>\n",
       "      <th>-.LGEHNIDVLEGNEQFINAARIITHPN.F</th>\n",
       "      <td>0</td>\n",
       "      <td>0</td>\n",
       "      <td>0</td>\n",
       "      <td>0</td>\n",
       "      <td>0</td>\n",
       "      <td>0</td>\n",
       "      <td>0</td>\n",
       "      <td>0</td>\n",
       "      <td>0</td>\n",
       "      <td>0</td>\n",
       "      <td>...</td>\n",
       "      <td>0</td>\n",
       "      <td>0</td>\n",
       "      <td>0</td>\n",
       "      <td>0</td>\n",
       "      <td>0</td>\n",
       "      <td>0</td>\n",
       "      <td>0</td>\n",
       "      <td>0</td>\n",
       "      <td>0</td>\n",
       "      <td>0</td>\n",
       "    </tr>\n",
       "  </tbody>\n",
       "</table>\n",
       "<p>5 rows × 119 columns</p>\n",
       "</div>"
      ],
      "text/plain": [
       "                                Blood_Plasma_47538_VC_600506_WP_7Dec10_Phoenix_10-09-32  \\\n",
       "Peptide                                                                                   \n",
       "-.DIQM*TQSPSTLSASVGDR.V                                                         0         \n",
       "-.DIQM*TQSPSTLSASVGDRVTITCR.A                                                   0         \n",
       "-.DIQMTQSPSTLSASVGDR.V                                                          1         \n",
       "-.LGEHNIDVLEGNEQFINAAR.I                                                        0         \n",
       "-.LGEHNIDVLEGNEQFINAARIITHPN.F                                                  0         \n",
       "\n",
       "                                Blood_Plasma_47538_VC_602095_WP_7Dec10_Phoenix_10-10-16  \\\n",
       "Peptide                                                                                   \n",
       "-.DIQM*TQSPSTLSASVGDR.V                                                         0         \n",
       "-.DIQM*TQSPSTLSASVGDRVTITCR.A                                                   0         \n",
       "-.DIQMTQSPSTLSASVGDR.V                                                          1         \n",
       "-.LGEHNIDVLEGNEQFINAAR.I                                                        0         \n",
       "-.LGEHNIDVLEGNEQFINAARIITHPN.F                                                  0         \n",
       "\n",
       "                                Blood_Plasma_47538_VC_602960_WP_3Dec10_Phoenix_10-09-32  \\\n",
       "Peptide                                                                                   \n",
       "-.DIQM*TQSPSTLSASVGDR.V                                                         0         \n",
       "-.DIQM*TQSPSTLSASVGDRVTITCR.A                                                   0         \n",
       "-.DIQMTQSPSTLSASVGDR.V                                                          1         \n",
       "-.LGEHNIDVLEGNEQFINAAR.I                                                        0         \n",
       "-.LGEHNIDVLEGNEQFINAARIITHPN.F                                                  0         \n",
       "\n",
       "                                Blood_Plasma_47538_VC_603081_WP_11Dec10_Phoenix_10-10-16  \\\n",
       "Peptide                                                                                    \n",
       "-.DIQM*TQSPSTLSASVGDR.V                                                         0          \n",
       "-.DIQM*TQSPSTLSASVGDRVTITCR.A                                                   0          \n",
       "-.DIQMTQSPSTLSASVGDR.V                                                          1          \n",
       "-.LGEHNIDVLEGNEQFINAAR.I                                                        0          \n",
       "-.LGEHNIDVLEGNEQFINAARIITHPN.F                                                  0          \n",
       "\n",
       "                                Blood_Plasma_47538_VC_603081_WP_13Dec10_Phoenix_10-10-16  \\\n",
       "Peptide                                                                                    \n",
       "-.DIQM*TQSPSTLSASVGDR.V                                                         0          \n",
       "-.DIQM*TQSPSTLSASVGDRVTITCR.A                                                   0          \n",
       "-.DIQMTQSPSTLSASVGDR.V                                                          1          \n",
       "-.LGEHNIDVLEGNEQFINAAR.I                                                        0          \n",
       "-.LGEHNIDVLEGNEQFINAARIITHPN.F                                                  0          \n",
       "\n",
       "                                Blood_Plasma_47538_VC_603347_WP_3Dec10_Phoenix_10-09-32  \\\n",
       "Peptide                                                                                   \n",
       "-.DIQM*TQSPSTLSASVGDR.V                                                         0         \n",
       "-.DIQM*TQSPSTLSASVGDRVTITCR.A                                                   0         \n",
       "-.DIQMTQSPSTLSASVGDR.V                                                          1         \n",
       "-.LGEHNIDVLEGNEQFINAAR.I                                                        0         \n",
       "-.LGEHNIDVLEGNEQFINAARIITHPN.F                                                  0         \n",
       "\n",
       "                                Blood_Plasma_47538_VC_603375_WP_3Dec10_Phoenix_10-09-32  \\\n",
       "Peptide                                                                                   \n",
       "-.DIQM*TQSPSTLSASVGDR.V                                                         0         \n",
       "-.DIQM*TQSPSTLSASVGDRVTITCR.A                                                   0         \n",
       "-.DIQMTQSPSTLSASVGDR.V                                                          1         \n",
       "-.LGEHNIDVLEGNEQFINAAR.I                                                        0         \n",
       "-.LGEHNIDVLEGNEQFINAARIITHPN.F                                                  0         \n",
       "\n",
       "                                Blood_Plasma_47538_VC_607573_WP_13Dec10_Phoenix_10-10-16  \\\n",
       "Peptide                                                                                    \n",
       "-.DIQM*TQSPSTLSASVGDR.V                                                         1          \n",
       "-.DIQM*TQSPSTLSASVGDRVTITCR.A                                                   0          \n",
       "-.DIQMTQSPSTLSASVGDR.V                                                          1          \n",
       "-.LGEHNIDVLEGNEQFINAAR.I                                                        0          \n",
       "-.LGEHNIDVLEGNEQFINAARIITHPN.F                                                  0          \n",
       "\n",
       "                                Blood_Plasma_47538_VC_607573_WP_3Dec10_Phoenix_10-10-16  \\\n",
       "Peptide                                                                                   \n",
       "-.DIQM*TQSPSTLSASVGDR.V                                                         0         \n",
       "-.DIQM*TQSPSTLSASVGDRVTITCR.A                                                   0         \n",
       "-.DIQMTQSPSTLSASVGDR.V                                                          1         \n",
       "-.LGEHNIDVLEGNEQFINAAR.I                                                        0         \n",
       "-.LGEHNIDVLEGNEQFINAARIITHPN.F                                                  0         \n",
       "\n",
       "                                Blood_Plasma_47538_VC_607986_WP_7Dec10_Phoenix_10-10-16  \\\n",
       "Peptide                                                                                   \n",
       "-.DIQM*TQSPSTLSASVGDR.V                                                         0         \n",
       "-.DIQM*TQSPSTLSASVGDRVTITCR.A                                                   0         \n",
       "-.DIQMTQSPSTLSASVGDR.V                                                          1         \n",
       "-.LGEHNIDVLEGNEQFINAAR.I                                                        0         \n",
       "-.LGEHNIDVLEGNEQFINAARIITHPN.F                                                  0         \n",
       "\n",
       "                                                           ...                               \\\n",
       "Peptide                                                    ...                                \n",
       "-.DIQM*TQSPSTLSASVGDR.V                                    ...                                \n",
       "-.DIQM*TQSPSTLSASVGDRVTITCR.A                              ...                                \n",
       "-.DIQMTQSPSTLSASVGDR.V                                     ...                                \n",
       "-.LGEHNIDVLEGNEQFINAAR.I                                   ...                                \n",
       "-.LGEHNIDVLEGNEQFINAARIITHPN.F                             ...                                \n",
       "\n",
       "                                Blood_Serum_LSDF2_10-0005-05_Velo_B_15Sep11_Jaguar_11-06-28  \\\n",
       "Peptide                                                                                       \n",
       "-.DIQM*TQSPSTLSASVGDR.V                                                         1             \n",
       "-.DIQM*TQSPSTLSASVGDRVTITCR.A                                                   0             \n",
       "-.DIQMTQSPSTLSASVGDR.V                                                          1             \n",
       "-.LGEHNIDVLEGNEQFINAAR.I                                                        0             \n",
       "-.LGEHNIDVLEGNEQFINAARIITHPN.F                                                  0             \n",
       "\n",
       "                                Blood_Serum_LSDF2_10-0013-09_Velo_A_12Sep11_Jaguar_11-06-28  \\\n",
       "Peptide                                                                                       \n",
       "-.DIQM*TQSPSTLSASVGDR.V                                                         0             \n",
       "-.DIQM*TQSPSTLSASVGDRVTITCR.A                                                   0             \n",
       "-.DIQMTQSPSTLSASVGDR.V                                                          1             \n",
       "-.LGEHNIDVLEGNEQFINAAR.I                                                        0             \n",
       "-.LGEHNIDVLEGNEQFINAARIITHPN.F                                                  0             \n",
       "\n",
       "                                Blood_Serum_LSDF2_10-0013-09_Velo_B_12Sep11_Jaguar_11-06-28  \\\n",
       "Peptide                                                                                       \n",
       "-.DIQM*TQSPSTLSASVGDR.V                                                         0             \n",
       "-.DIQM*TQSPSTLSASVGDRVTITCR.A                                                   0             \n",
       "-.DIQMTQSPSTLSASVGDR.V                                                          1             \n",
       "-.LGEHNIDVLEGNEQFINAAR.I                                                        0             \n",
       "-.LGEHNIDVLEGNEQFINAARIITHPN.F                                                  0             \n",
       "\n",
       "                                Blood_Serum_LSDF2_10-0032-02_Velo_A_12Sep11_Jaguar_11-06-28  \\\n",
       "Peptide                                                                                       \n",
       "-.DIQM*TQSPSTLSASVGDR.V                                                         1             \n",
       "-.DIQM*TQSPSTLSASVGDRVTITCR.A                                                   0             \n",
       "-.DIQMTQSPSTLSASVGDR.V                                                          1             \n",
       "-.LGEHNIDVLEGNEQFINAAR.I                                                        0             \n",
       "-.LGEHNIDVLEGNEQFINAARIITHPN.F                                                  0             \n",
       "\n",
       "                                Blood_Serum_LSDF2_10-0196-09_Velo_A_12Sep11_Jaguar_11-06-28  \\\n",
       "Peptide                                                                                       \n",
       "-.DIQM*TQSPSTLSASVGDR.V                                                         0             \n",
       "-.DIQM*TQSPSTLSASVGDRVTITCR.A                                                   0             \n",
       "-.DIQMTQSPSTLSASVGDR.V                                                          0             \n",
       "-.LGEHNIDVLEGNEQFINAAR.I                                                        0             \n",
       "-.LGEHNIDVLEGNEQFINAARIITHPN.F                                                  0             \n",
       "\n",
       "                                Blood_Serum_LSDF2_10-0457-03_Velo_A_15Sep11_Jaguar_11-06-28  \\\n",
       "Peptide                                                                                       \n",
       "-.DIQM*TQSPSTLSASVGDR.V                                                         0             \n",
       "-.DIQM*TQSPSTLSASVGDRVTITCR.A                                                   0             \n",
       "-.DIQMTQSPSTLSASVGDR.V                                                          1             \n",
       "-.LGEHNIDVLEGNEQFINAAR.I                                                        0             \n",
       "-.LGEHNIDVLEGNEQFINAARIITHPN.F                                                  0             \n",
       "\n",
       "                                Blood_Serum_LSDF2_10-0523-08_Velo_A_20Sep11_Jaguar_11-06-28  \\\n",
       "Peptide                                                                                       \n",
       "-.DIQM*TQSPSTLSASVGDR.V                                                         0             \n",
       "-.DIQM*TQSPSTLSASVGDRVTITCR.A                                                   0             \n",
       "-.DIQMTQSPSTLSASVGDR.V                                                          0             \n",
       "-.LGEHNIDVLEGNEQFINAAR.I                                                        0             \n",
       "-.LGEHNIDVLEGNEQFINAARIITHPN.F                                                  0             \n",
       "\n",
       "                                Blood_Serum_LSDF2_10-0543-07_Velo_A_12Sep11_Jaguar_11-06-28  \\\n",
       "Peptide                                                                                       \n",
       "-.DIQM*TQSPSTLSASVGDR.V                                                         0             \n",
       "-.DIQM*TQSPSTLSASVGDRVTITCR.A                                                   0             \n",
       "-.DIQMTQSPSTLSASVGDR.V                                                          0             \n",
       "-.LGEHNIDVLEGNEQFINAAR.I                                                        0             \n",
       "-.LGEHNIDVLEGNEQFINAARIITHPN.F                                                  0             \n",
       "\n",
       "                                Blood_Serum_LSDF2_10-0718-05_Velo_A_20Sep11_Jaguar_11-06-28  \\\n",
       "Peptide                                                                                       \n",
       "-.DIQM*TQSPSTLSASVGDR.V                                                         1             \n",
       "-.DIQM*TQSPSTLSASVGDRVTITCR.A                                                   0             \n",
       "-.DIQMTQSPSTLSASVGDR.V                                                          1             \n",
       "-.LGEHNIDVLEGNEQFINAAR.I                                                        0             \n",
       "-.LGEHNIDVLEGNEQFINAARIITHPN.F                                                  0             \n",
       "\n",
       "                                Blood_Serum_LSDF2_10-1165-06_Velo_A_12Sep11_Jaguar_11-06-28  \n",
       "Peptide                                                                                      \n",
       "-.DIQM*TQSPSTLSASVGDR.V                                                         0            \n",
       "-.DIQM*TQSPSTLSASVGDRVTITCR.A                                                   0            \n",
       "-.DIQMTQSPSTLSASVGDR.V                                                          0            \n",
       "-.LGEHNIDVLEGNEQFINAAR.I                                                        0            \n",
       "-.LGEHNIDVLEGNEQFINAARIITHPN.F                                                  0            \n",
       "\n",
       "[5 rows x 119 columns]"
      ]
     },
     "execution_count": 25,
     "metadata": {},
     "output_type": "execute_result"
    }
   ],
   "source": [
    "df.head()"
   ]
  },
  {
   "cell_type": "markdown",
   "metadata": {},
   "source": [
    "## Plot Learning Curves\n",
    "* Print each classifier's result for each training size; this data was used to create Fig6\n",
    "\n",
    "Modified from http://scikit-learn.org/stable/auto_examples/model_selection/plot_learning_curve.html#sphx-glr-auto-examples-model-selection-plot-learning-curve-py"
   ]
  },
  {
   "cell_type": "code",
   "execution_count": 26,
   "metadata": {
    "collapsed": true
   },
   "outputs": [],
   "source": [
    "def plot_learning_curve(estimator, title, data, labels, ylim=None,\n",
    "                        cv=StratifiedShuffleSplit(n_splits=100, test_size=.3, random_state=0),\n",
    "                        n_jobs=1, train_sizes=[20, 30, 40, 50]):\n",
    "    \n",
    "    plt.figure()\n",
    "    plt.title(title)\n",
    "    if ylim is not None:\n",
    "        plt.ylim(*ylim)\n",
    "    plt.xlabel(\"Samples per Tissue\")\n",
    "    plt.ylabel(\"Score\")\n",
    "    train_sizes, train_scores, test_scores = learning_curve(\n",
    "        estimator, data, labels, cv=cv, n_jobs=n_jobs, train_sizes=train_sizes)\n",
    "\n",
    "    test_scores_mean = np.mean(test_scores, axis=1)\n",
    "    test_scores_std = np.std(test_scores, axis=1)\n",
    "\n",
    "    print('Mean test set scores: ', test_scores_mean)\n",
    "        \n",
    "    plt.grid()\n",
    "\n",
    "    plt.fill_between(train_sizes/2, test_scores_mean - test_scores_std,\n",
    "                     test_scores_mean + test_scores_std, alpha=0.1, color=\"r\")\n",
    "    ### Train sizes = combined plasma + serum. Divide by 2 to get size per tissue\n",
    "    plt.plot(train_sizes/2, test_scores_mean, 'o-', color=\"r\",\n",
    "             label=\"Test Set Accuracy Score\")\n",
    "\n",
    "    return plt"
   ]
  },
  {
   "cell_type": "code",
   "execution_count": 27,
   "metadata": {
    "collapsed": true
   },
   "outputs": [],
   "source": [
    "models = [LogisticRegression(random_state=0), \n",
    "          RandomForestClassifier(random_state=0), \n",
    "          SVC(kernel='linear', random_state=0),\n",
    "          GradientBoostingClassifier(random_state=0), \n",
    "          GaussianNB(), \n",
    "          KNeighborsClassifier()]\n",
    "\n",
    "model_names = ['Logistic Regression', \n",
    "               'Random Forest', \n",
    "               'SVC', \n",
    "               'Gradient Boosting', \n",
    "               'Gaussian Naive Bayes', \n",
    "               'K-Nearest Neighbors']"
   ]
  },
  {
   "cell_type": "code",
   "execution_count": 28,
   "metadata": {
    "scrolled": true
   },
   "outputs": [
    {
     "name": "stdout",
     "output_type": "stream",
     "text": [
      "\n",
      "*** Logistic Regression :\n",
      "Mean test set scores:  [ 0.73        0.8         0.82527778  0.83722222  0.85861111  0.87194444\n",
      "  0.87361111  0.88388889]\n"
     ]
    },
    {
     "data": {
      "text/plain": [
       "<matplotlib.figure.Figure at 0x1a13640208>"
      ]
     },
     "metadata": {},
     "output_type": "display_data"
    },
    {
     "data": {
      "image/png": "[encoded data removed]",
      "text/plain": [
       "<matplotlib.figure.Figure at 0x1a1258c588>"
      ]
     },
     "metadata": {},
     "output_type": "display_data"
    },
    {
     "name": "stdout",
     "output_type": "stream",
     "text": [
      "\n",
      "*** Random Forest :\n",
      "Mean test set scores:  [ 0.67833333  0.78055556  0.81555556  0.8175      0.81833333  0.82583333\n",
      "  0.83138889  0.8375    ]\n"
     ]
    },
    {
     "data": {
      "text/plain": [
       "<matplotlib.figure.Figure at 0x1a13093748>"
      ]
     },
     "metadata": {},
     "output_type": "display_data"
    },
    {
     "data": {
      "image/png": "[encoded data removed]",
      "text/plain": [
       "<matplotlib.figure.Figure at 0x1a1255f550>"
      ]
     },
     "metadata": {},
     "output_type": "display_data"
    },
    {
     "name": "stdout",
     "output_type": "stream",
     "text": [
      "\n",
      "*** SVC :\n",
      "Mean test set scores:  [ 0.74888889  0.82194444  0.84194444  0.85194444  0.87166667  0.87583333\n",
      "  0.88305556  0.89166667]\n"
     ]
    },
    {
     "data": {
      "text/plain": [
       "<matplotlib.figure.Figure at 0x1a130ad550>"
      ]
     },
     "metadata": {},
     "output_type": "display_data"
    },
    {
     "data": {
      "image/png": "[encoded data removed]",
      "text/plain": [
       "<matplotlib.figure.Figure at 0x1a12591f60>"
      ]
     },
     "metadata": {},
     "output_type": "display_data"
    },
    {
     "name": "stdout",
     "output_type": "stream",
     "text": [
      "\n",
      "*** Gradient Boosting :\n",
      "Mean test set scores:  [ 0.69222222  0.74444444  0.77138889  0.77861111  0.78972222  0.79638889\n",
      "  0.79777778  0.80694444]\n"
     ]
    },
    {
     "data": {
      "text/plain": [
       "<matplotlib.figure.Figure at 0x1a1257de80>"
      ]
     },
     "metadata": {},
     "output_type": "display_data"
    },
    {
     "data": {
      "image/png": "[encoded data removed]",
      "text/plain": [
       "<matplotlib.figure.Figure at 0x1a132d8400>"
      ]
     },
     "metadata": {},
     "output_type": "display_data"
    },
    {
     "name": "stdout",
     "output_type": "stream",
     "text": [
      "\n",
      "*** Gaussian Naive Bayes :\n",
      "Mean test set scores:  [ 0.70916667  0.79416667  0.80638889  0.81277778  0.82444444  0.82\n",
      "  0.81916667  0.81555556]\n"
     ]
    },
    {
     "data": {
      "text/plain": [
       "<matplotlib.figure.Figure at 0x10b2df0b8>"
      ]
     },
     "metadata": {},
     "output_type": "display_data"
    },
    {
     "data": {
      "image/png": "[encoded data removed]",
      "text/plain": [
       "<matplotlib.figure.Figure at 0x1a1362d4e0>"
      ]
     },
     "metadata": {},
     "output_type": "display_data"
    },
    {
     "name": "stdout",
     "output_type": "stream",
     "text": [
      "\n",
      "*** K-Nearest Neighbors :\n",
      "Mean test set scores:  [ 0.55277778  0.76138889  0.81361111  0.8375      0.84694444  0.85444444\n",
      "  0.86444444  0.87555556]\n"
     ]
    },
    {
     "data": {
      "text/plain": [
       "<matplotlib.figure.Figure at 0x1a12345208>"
      ]
     },
     "metadata": {},
     "output_type": "display_data"
    },
    {
     "data": {
      "image/png": "[encoded data removed]",
      "text/plain": [
       "<matplotlib.figure.Figure at 0x1a12569588>"
      ]
     },
     "metadata": {},
     "output_type": "display_data"
    }
   ],
   "source": [
    "for clf, name in zip(models, model_names):\n",
    "    print('\\n***', name, ':')\n",
    "    plt = plot_learning_curve(clf, 'Learning Curve - ' + name, df.T, labels, train_sizes = [10, 20, 30, 40, 50, 60, 70, 80])\n",
    "    plt.show()\n",
    "    plt.clf()\n"
   ]
  },
  {
   "cell_type": "code",
   "execution_count": 29,
   "metadata": {
    "scrolled": true
   },
   "outputs": [
    {
     "name": "stdout",
     "output_type": "stream",
     "text": [
      "\n",
      "*** Multinomial Naive Bayes:\n",
      "Mean test set scores:  [ 0.55277778  0.76138889  0.81361111  0.8375      0.84694444  0.85444444\n",
      "  0.86444444  0.87555556]\n"
     ]
    },
    {
     "data": {
      "text/plain": [
       "<matplotlib.figure.Figure at 0x1a1241ec50>"
      ]
     },
     "metadata": {},
     "output_type": "display_data"
    },
    {
     "data": {
      "image/png": "[encoded data removed]",
      "text/plain": [
       "<matplotlib.figure.Figure at 0x1a1258c438>"
      ]
     },
     "metadata": {},
     "output_type": "display_data"
    }
   ],
   "source": [
    "print('\\n*** Multinomial Naive Bayes:')\n",
    "plt = plot_learning_curve(clf, 'Learning Curve - Multinomial NB', min_max_df.T,\n",
    "                          labels, train_sizes = [10, 20, 30, 40, 50, 60, 70, 80])\n",
    "\n",
    "plt.show()\n",
    "plt.clf()"
   ]
  }
 ],
 "metadata": {
  "kernelspec": {
   "display_name": "Python 3",
   "language": "python",
   "name": "python3"
  },
  "language_info": {
   "codemirror_mode": {
    "name": "ipython",
    "version": 3
   },
   "file_extension": ".py",
   "mimetype": "text/x-python",
   "name": "python",
   "nbconvert_exporter": "python",
   "pygments_lexer": "ipython3",
   "version": "3.6.5"
  },
  "toc": {
   "nav_menu": {},
   "number_sections": true,
   "sideBar": true,
   "skip_h1_title": true,
   "toc_cell": false,
   "toc_position": {},
   "toc_section_display": "block",
   "toc_window_display": false
  }
 },
 "nbformat": 4,
 "nbformat_minor": 2
}
