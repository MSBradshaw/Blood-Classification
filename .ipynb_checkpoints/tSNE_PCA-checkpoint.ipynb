{
 "cells": [
  {
   "cell_type": "code",
   "execution_count": 1,
   "metadata": {},
   "outputs": [],
   "source": [
    "import Classification_Utils as cu\n",
    "import numpy as np\n",
    "import pandas as pd\n",
    "from sklearn.decomposition import PCA"
   ]
  },
  {
   "cell_type": "code",
   "execution_count": 2,
   "metadata": {},
   "outputs": [],
   "source": [
    "import matplotlib.patches as mpatches\n",
    "import matplotlib.pyplot as plt\n",
    "from matplotlib.markers import MarkerStyle\n",
    "from mpl_toolkits.axes_grid1.inset_locator import mark_inset, zoomed_inset_axes\n",
    "from matplotlib.lines import Line2D\n",
    "from matplotlib import offsetbox\n",
    "from sklearn import manifold, datasets, decomposition, ensemble,discriminant_analysis, random_projection\n",
    "from sklearn.decomposition import TruncatedSVD"
   ]
  },
  {
   "cell_type": "code",
   "execution_count": 3,
   "metadata": {},
   "outputs": [],
   "source": [
    "DPI=500 # Constant value to set resolution\n",
    "\n",
    "# Set default font\n",
    "plt.rcParams['font.size'] = 10\n",
    "plt.rcParams['font.family'] = \"Arial\""
   ]
  },
  {
   "cell_type": "markdown",
   "metadata": {},
   "source": [
    "## Load data\n",
    "* One data frame for all training and test data\n",
    "* One data frame for healthy vs diseased comparison\n",
    "* One data frame for all training and test data, with the addition of 10 cell line datasets"
   ]
  },
  {
   "cell_type": "code",
   "execution_count": 4,
   "metadata": {},
   "outputs": [
    {
     "name": "stdout",
     "output_type": "stream",
     "text": [
      "(68623, 253)\n"
     ]
    },
    {
     "ename": "FileNotFoundError",
     "evalue": "File b'HealthyDiseasedQuant.txt' does not exist",
     "output_type": "error",
     "traceback": [
      "\u001b[1;31m---------------------------------------------------------------------------\u001b[0m",
      "\u001b[1;31mFileNotFoundError\u001b[0m                         Traceback (most recent call last)",
      "\u001b[1;32m<ipython-input-4-ef814746ad88>\u001b[0m in \u001b[0;36m<module>\u001b[1;34m()\u001b[0m\n\u001b[0;32m      2\u001b[0m \u001b[0mprint\u001b[0m\u001b[1;33m(\u001b[0m\u001b[0mtrain_test_df\u001b[0m\u001b[1;33m.\u001b[0m\u001b[0mshape\u001b[0m\u001b[1;33m)\u001b[0m\u001b[1;33m\u001b[0m\u001b[0m\n\u001b[0;32m      3\u001b[0m \u001b[1;33m\u001b[0m\u001b[0m\n\u001b[1;32m----> 4\u001b[1;33m \u001b[0mhealthy_diseased_df\u001b[0m \u001b[1;33m=\u001b[0m \u001b[0mpd\u001b[0m\u001b[1;33m.\u001b[0m\u001b[0mread_csv\u001b[0m\u001b[1;33m(\u001b[0m\u001b[1;34m'HealthyDiseasedQuant.txt'\u001b[0m\u001b[1;33m,\u001b[0m \u001b[0msep\u001b[0m\u001b[1;33m=\u001b[0m\u001b[1;34m'\\t'\u001b[0m\u001b[1;33m,\u001b[0m \u001b[0mindex_col\u001b[0m\u001b[1;33m=\u001b[0m\u001b[1;34m'Peptide'\u001b[0m\u001b[1;33m)\u001b[0m\u001b[1;33m\u001b[0m\u001b[0m\n\u001b[0m\u001b[0;32m      5\u001b[0m \u001b[0mprint\u001b[0m\u001b[1;33m(\u001b[0m\u001b[0mhealthy_diseased_df\u001b[0m\u001b[1;33m.\u001b[0m\u001b[0mshape\u001b[0m\u001b[1;33m)\u001b[0m\u001b[1;33m\u001b[0m\u001b[0m\n\u001b[0;32m      6\u001b[0m \u001b[1;33m\u001b[0m\u001b[0m\n",
      "\u001b[1;32mC:\\ProgramData\\Anaconda3\\lib\\site-packages\\pandas\\io\\parsers.py\u001b[0m in \u001b[0;36mparser_f\u001b[1;34m(filepath_or_buffer, sep, delimiter, header, names, index_col, usecols, squeeze, prefix, mangle_dupe_cols, dtype, engine, converters, true_values, false_values, skipinitialspace, skiprows, nrows, na_values, keep_default_na, na_filter, verbose, skip_blank_lines, parse_dates, infer_datetime_format, keep_date_col, date_parser, dayfirst, iterator, chunksize, compression, thousands, decimal, lineterminator, quotechar, quoting, escapechar, comment, encoding, dialect, tupleize_cols, error_bad_lines, warn_bad_lines, skipfooter, doublequote, delim_whitespace, low_memory, memory_map, float_precision)\u001b[0m\n\u001b[0;32m    676\u001b[0m                     skip_blank_lines=skip_blank_lines)\n\u001b[0;32m    677\u001b[0m \u001b[1;33m\u001b[0m\u001b[0m\n\u001b[1;32m--> 678\u001b[1;33m         \u001b[1;32mreturn\u001b[0m \u001b[0m_read\u001b[0m\u001b[1;33m(\u001b[0m\u001b[0mfilepath_or_buffer\u001b[0m\u001b[1;33m,\u001b[0m \u001b[0mkwds\u001b[0m\u001b[1;33m)\u001b[0m\u001b[1;33m\u001b[0m\u001b[0m\n\u001b[0m\u001b[0;32m    679\u001b[0m \u001b[1;33m\u001b[0m\u001b[0m\n\u001b[0;32m    680\u001b[0m     \u001b[0mparser_f\u001b[0m\u001b[1;33m.\u001b[0m\u001b[0m__name__\u001b[0m \u001b[1;33m=\u001b[0m \u001b[0mname\u001b[0m\u001b[1;33m\u001b[0m\u001b[0m\n",
      "\u001b[1;32mC:\\ProgramData\\Anaconda3\\lib\\site-packages\\pandas\\io\\parsers.py\u001b[0m in \u001b[0;36m_read\u001b[1;34m(filepath_or_buffer, kwds)\u001b[0m\n\u001b[0;32m    438\u001b[0m \u001b[1;33m\u001b[0m\u001b[0m\n\u001b[0;32m    439\u001b[0m     \u001b[1;31m# Create the parser.\u001b[0m\u001b[1;33m\u001b[0m\u001b[1;33m\u001b[0m\u001b[0m\n\u001b[1;32m--> 440\u001b[1;33m     \u001b[0mparser\u001b[0m \u001b[1;33m=\u001b[0m \u001b[0mTextFileReader\u001b[0m\u001b[1;33m(\u001b[0m\u001b[0mfilepath_or_buffer\u001b[0m\u001b[1;33m,\u001b[0m \u001b[1;33m**\u001b[0m\u001b[0mkwds\u001b[0m\u001b[1;33m)\u001b[0m\u001b[1;33m\u001b[0m\u001b[0m\n\u001b[0m\u001b[0;32m    441\u001b[0m \u001b[1;33m\u001b[0m\u001b[0m\n\u001b[0;32m    442\u001b[0m     \u001b[1;32mif\u001b[0m \u001b[0mchunksize\u001b[0m \u001b[1;32mor\u001b[0m \u001b[0miterator\u001b[0m\u001b[1;33m:\u001b[0m\u001b[1;33m\u001b[0m\u001b[0m\n",
      "\u001b[1;32mC:\\ProgramData\\Anaconda3\\lib\\site-packages\\pandas\\io\\parsers.py\u001b[0m in \u001b[0;36m__init__\u001b[1;34m(self, f, engine, **kwds)\u001b[0m\n\u001b[0;32m    785\u001b[0m             \u001b[0mself\u001b[0m\u001b[1;33m.\u001b[0m\u001b[0moptions\u001b[0m\u001b[1;33m[\u001b[0m\u001b[1;34m'has_index_names'\u001b[0m\u001b[1;33m]\u001b[0m \u001b[1;33m=\u001b[0m \u001b[0mkwds\u001b[0m\u001b[1;33m[\u001b[0m\u001b[1;34m'has_index_names'\u001b[0m\u001b[1;33m]\u001b[0m\u001b[1;33m\u001b[0m\u001b[0m\n\u001b[0;32m    786\u001b[0m \u001b[1;33m\u001b[0m\u001b[0m\n\u001b[1;32m--> 787\u001b[1;33m         \u001b[0mself\u001b[0m\u001b[1;33m.\u001b[0m\u001b[0m_make_engine\u001b[0m\u001b[1;33m(\u001b[0m\u001b[0mself\u001b[0m\u001b[1;33m.\u001b[0m\u001b[0mengine\u001b[0m\u001b[1;33m)\u001b[0m\u001b[1;33m\u001b[0m\u001b[0m\n\u001b[0m\u001b[0;32m    788\u001b[0m \u001b[1;33m\u001b[0m\u001b[0m\n\u001b[0;32m    789\u001b[0m     \u001b[1;32mdef\u001b[0m \u001b[0mclose\u001b[0m\u001b[1;33m(\u001b[0m\u001b[0mself\u001b[0m\u001b[1;33m)\u001b[0m\u001b[1;33m:\u001b[0m\u001b[1;33m\u001b[0m\u001b[0m\n",
      "\u001b[1;32mC:\\ProgramData\\Anaconda3\\lib\\site-packages\\pandas\\io\\parsers.py\u001b[0m in \u001b[0;36m_make_engine\u001b[1;34m(self, engine)\u001b[0m\n\u001b[0;32m   1012\u001b[0m     \u001b[1;32mdef\u001b[0m \u001b[0m_make_engine\u001b[0m\u001b[1;33m(\u001b[0m\u001b[0mself\u001b[0m\u001b[1;33m,\u001b[0m \u001b[0mengine\u001b[0m\u001b[1;33m=\u001b[0m\u001b[1;34m'c'\u001b[0m\u001b[1;33m)\u001b[0m\u001b[1;33m:\u001b[0m\u001b[1;33m\u001b[0m\u001b[0m\n\u001b[0;32m   1013\u001b[0m         \u001b[1;32mif\u001b[0m \u001b[0mengine\u001b[0m \u001b[1;33m==\u001b[0m \u001b[1;34m'c'\u001b[0m\u001b[1;33m:\u001b[0m\u001b[1;33m\u001b[0m\u001b[0m\n\u001b[1;32m-> 1014\u001b[1;33m             \u001b[0mself\u001b[0m\u001b[1;33m.\u001b[0m\u001b[0m_engine\u001b[0m \u001b[1;33m=\u001b[0m \u001b[0mCParserWrapper\u001b[0m\u001b[1;33m(\u001b[0m\u001b[0mself\u001b[0m\u001b[1;33m.\u001b[0m\u001b[0mf\u001b[0m\u001b[1;33m,\u001b[0m \u001b[1;33m**\u001b[0m\u001b[0mself\u001b[0m\u001b[1;33m.\u001b[0m\u001b[0moptions\u001b[0m\u001b[1;33m)\u001b[0m\u001b[1;33m\u001b[0m\u001b[0m\n\u001b[0m\u001b[0;32m   1015\u001b[0m         \u001b[1;32melse\u001b[0m\u001b[1;33m:\u001b[0m\u001b[1;33m\u001b[0m\u001b[0m\n\u001b[0;32m   1016\u001b[0m             \u001b[1;32mif\u001b[0m \u001b[0mengine\u001b[0m \u001b[1;33m==\u001b[0m \u001b[1;34m'python'\u001b[0m\u001b[1;33m:\u001b[0m\u001b[1;33m\u001b[0m\u001b[0m\n",
      "\u001b[1;32mC:\\ProgramData\\Anaconda3\\lib\\site-packages\\pandas\\io\\parsers.py\u001b[0m in \u001b[0;36m__init__\u001b[1;34m(self, src, **kwds)\u001b[0m\n\u001b[0;32m   1706\u001b[0m         \u001b[0mkwds\u001b[0m\u001b[1;33m[\u001b[0m\u001b[1;34m'usecols'\u001b[0m\u001b[1;33m]\u001b[0m \u001b[1;33m=\u001b[0m \u001b[0mself\u001b[0m\u001b[1;33m.\u001b[0m\u001b[0musecols\u001b[0m\u001b[1;33m\u001b[0m\u001b[0m\n\u001b[0;32m   1707\u001b[0m \u001b[1;33m\u001b[0m\u001b[0m\n\u001b[1;32m-> 1708\u001b[1;33m         \u001b[0mself\u001b[0m\u001b[1;33m.\u001b[0m\u001b[0m_reader\u001b[0m \u001b[1;33m=\u001b[0m \u001b[0mparsers\u001b[0m\u001b[1;33m.\u001b[0m\u001b[0mTextReader\u001b[0m\u001b[1;33m(\u001b[0m\u001b[0msrc\u001b[0m\u001b[1;33m,\u001b[0m \u001b[1;33m**\u001b[0m\u001b[0mkwds\u001b[0m\u001b[1;33m)\u001b[0m\u001b[1;33m\u001b[0m\u001b[0m\n\u001b[0m\u001b[0;32m   1709\u001b[0m \u001b[1;33m\u001b[0m\u001b[0m\n\u001b[0;32m   1710\u001b[0m         \u001b[0mpassed_names\u001b[0m \u001b[1;33m=\u001b[0m \u001b[0mself\u001b[0m\u001b[1;33m.\u001b[0m\u001b[0mnames\u001b[0m \u001b[1;32mis\u001b[0m \u001b[1;32mNone\u001b[0m\u001b[1;33m\u001b[0m\u001b[0m\n",
      "\u001b[1;32mpandas\\_libs\\parsers.pyx\u001b[0m in \u001b[0;36mpandas._libs.parsers.TextReader.__cinit__\u001b[1;34m()\u001b[0m\n",
      "\u001b[1;32mpandas\\_libs\\parsers.pyx\u001b[0m in \u001b[0;36mpandas._libs.parsers.TextReader._setup_parser_source\u001b[1;34m()\u001b[0m\n",
      "\u001b[1;31mFileNotFoundError\u001b[0m: File b'HealthyDiseasedQuant.txt' does not exist"
     ]
    }
   ],
   "source": [
    "train_test_df = pd.read_csv('FullPeptideQuant.txt', sep='\\t', index_col='Peptide')\n",
    "print(train_test_df.shape)\n",
    "\n",
    "healthy_diseased_df = pd.read_csv('HealthyDiseasedQuant.txt', sep='\\t', index_col='Peptide')\n",
    "print(healthy_diseased_df.shape)\n",
    "\n",
    "tt_cell_line_df = pd.read_csv('TrainTestCellLineQuant.txt', sep='\\t', index_col='Peptide')\n",
    "print(tt_cell_line_df.shape)"
   ]
  },
  {
   "cell_type": "markdown",
   "metadata": {},
   "source": [
    "## Train/Test data"
   ]
  },
  {
   "cell_type": "markdown",
   "metadata": {},
   "source": [
    "### Map each column to a corresponding label"
   ]
  },
  {
   "cell_type": "code",
   "execution_count": null,
   "metadata": {},
   "outputs": [],
   "source": [
    "train_test_tissues = ['Blood_Plasma', 'Blood_Serum', 'CSF', 'Liver', 'Monocyte', 'Ovary', 'Pancreas', 'Substantia_Nigra', 'Temporal_Lobe']\n",
    "\n",
    "train_test_tissues_to_columns = cu.map_tissues_to_columns(train_test_df, train_test_tissues)"
   ]
  },
  {
   "cell_type": "code",
   "execution_count": null,
   "metadata": {},
   "outputs": [],
   "source": [
    "train_test_column_names = train_test_df.columns.values.tolist()\n",
    "\n",
    "train_test_labels = cu.get_labels(train_test_column_names, \n",
    "                                  train_test_tissues_to_columns)"
   ]
  },
  {
   "cell_type": "markdown",
   "metadata": {},
   "source": [
    "### Map columns to colors, and prepare PCA dataframe"
   ]
  },
  {
   "cell_type": "code",
   "execution_count": null,
   "metadata": {},
   "outputs": [],
   "source": [
    "import seaborn as sns\n",
    "\n",
    "\"\"\"\n",
    "Creates a dictionary mapping each column name to a color.\n",
    "\n",
    "Args:\n",
    "    tissues (list of strings): All tissues in the dataframe\n",
    "    tissues_to_columns (dictionary): Mapping of each tissue to all associated column names\n",
    "    palette (string): Color palette to use\n",
    "\"\"\"\n",
    "def map_colors(tissues, tissues_to_columns, palette='hls'):\n",
    "    \n",
    "    color_dict = {} # Column name : color\n",
    "    num_colors = len(tissues) # One color for each tissue\n",
    "    colors = sns.color_palette(palette, num_colors)\n",
    "    \n",
    "    color = 0\n",
    "\n",
    "    for tissue in tissues:\n",
    "        cols = tissues_to_columns[tissue] # Get the list of column names for the tissue \n",
    "        for col in cols:\n",
    "            color_dict[col] = colors[color]\n",
    "        color += 1\n",
    "        \n",
    "    return color_dict"
   ]
  },
  {
   "cell_type": "code",
   "execution_count": null,
   "metadata": {},
   "outputs": [],
   "source": [
    "train_test_dir = r'D:\\Images\\Human_Tissues\\\\'\n",
    "\n",
    "tt_color_dict = map_colors(train_test_tissues, train_test_tissues_to_columns)"
   ]
  },
  {
   "cell_type": "code",
   "execution_count": null,
   "metadata": {},
   "outputs": [],
   "source": [
    "train_test_T = train_test_df.T  #Transpose data frame\n",
    "\n",
    "# For 2 dimensional PCA\n",
    "pca = PCA() # create a PCA object\n",
    "pca.fit(train_test_T) # do the math\n",
    "pca_data = pca.transform(train_test_T) # get PCA coordinates for dataframe\n",
    "\n",
    "# For 3 dimensional PCA\n",
    "pca_3 = PCA(n_components=3) \n",
    "pca_3.fit(train_test_T)\n",
    "pca_data_3 = pca_3.transform(train_test_T)\n",
    "\n",
    "# per_var: array containing each principal component's percentage of explained variance\n",
    "per_var = np.round(pca.explained_variance_ratio_* 100, decimals = 1)\n",
    "pca_labels = ['PC' + str(x) for x in range(1, len(per_var)+1)] \n",
    "\n",
    "per_var_3 = np.round(pca_3.explained_variance_ratio_* 100, decimals = 1)\n",
    "pca_labels_3 = ['PC' + str(x) for x in range(1, len(per_var_3)+1)] "
   ]
  },
  {
   "cell_type": "markdown",
   "metadata": {},
   "source": [
    "### 3D PCA of Train and Test"
   ]
  },
  {
   "cell_type": "code",
   "execution_count": null,
   "metadata": {},
   "outputs": [],
   "source": [
    "from mpl_toolkits.mplot3d import Axes3D\n",
    "\n",
    "def draw_3d_pca(column_names, pca_data, base_dir, color_dict, per_var, labels, tissues, tissues_to_columns, title='3D PCA'):\n",
    "    \n",
    "    plt.figure()\n",
    "    \n",
    "    pca_df = pd.DataFrame(pca_data, index = column_names, columns = labels)\n",
    "\n",
    "    fig = plt.figure()\n",
    "    ax = fig.add_subplot(111, projection='3d')\n",
    "    \n",
    "    for column in column_names:\n",
    "        ax.scatter(pca_df.PC1.loc[column], pca_df.PC2.loc[column], pca_df.PC3.loc[column], color=color_dict[column])\n",
    "\n",
    "    ax.set_xlabel(\"PC1\")\n",
    "    ax.set_ylabel(\"PC2\")\n",
    "    ax.set_zlabel(\"PC3\")\n",
    "    \n",
    "    new_handles = []\n",
    "    for tissue in tissues:\n",
    "        col = tissues_to_columns[tissue][0]\n",
    "        color = color_dict[col]\n",
    "        patch = mpatches.Patch(color=color, label=tissue.replace(\"_\", \" \"))\n",
    "        new_handles.append(patch)\n",
    "\n",
    "    lgd = ax.legend(handles=new_handles, loc=2, bbox_to_anchor=(1.05, 1), ncol=1)\n",
    "    output_path = base_dir + title + '.pdf'\n",
    "    fig.savefig(output_path, bbox_inches=\"tight\", bbox_extra_artists=(lgd,), dpi=DPI)\n",
    "    fig.clf()"
   ]
  },
  {
   "cell_type": "code",
   "execution_count": null,
   "metadata": {},
   "outputs": [],
   "source": [
    "draw_3d_pca(train_test_column_names, pca_data_3, train_test_dir, \n",
    "            tt_color_dict, per_var_3, pca_labels_3, \n",
    "            train_test_tissues, train_test_tissues_to_columns, '3D PCA')"
   ]
  },
  {
   "cell_type": "markdown",
   "metadata": {},
   "source": [
    "### Plot train and test data, zoomed-in on tight clustering"
   ]
  },
  {
   "cell_type": "code",
   "execution_count": null,
   "metadata": {},
   "outputs": [],
   "source": [
    "train_test_pca_df = pd.DataFrame(pca_data, index = train_test_column_names, columns = pca_labels)\n",
    "\n",
    "fig = plt.figure(1)\n",
    "ax = fig.add_subplot(111)\n",
    "\n",
    "plt.xlabel('PC1 - {0}%'.format(per_var[0]))\n",
    "plt.ylabel('PC2 - {0}%'.format(per_var[1]))\n",
    "\n",
    "for column in train_test_pca_df.index:\n",
    "    plt.scatter(train_test_pca_df.PC1.loc[column], train_test_pca_df.PC2.loc[column], \n",
    "                color = tt_color_dict[column])\n",
    "\n",
    "# Plot again in zoomed sub-plot\n",
    "axins = zoomed_inset_axes(ax, 7, loc='center right') # axes, zoom-factor, location\n",
    "for column in train_test_pca_df.index:\n",
    "    axins.scatter(train_test_pca_df.PC1.loc[column], train_test_pca_df.PC2.loc[column], \n",
    "                  color = tt_color_dict[column])\n",
    "\n",
    "x1, x2, y1, y2 = -770, -600, 150, -130 # specify the axis limits\n",
    "axins.set_xlim(x1, x2) # apply the x-limits\n",
    "axins.set_ylim(y2, y1) # apply the y-limits\n",
    "\n",
    "plt.yticks(visible=False)\n",
    "plt.xticks(visible=False)\n",
    "\n",
    "mark_inset(ax, axins, loc1=2, loc2=3, fc=\"none\", ec=\"0.5\")\n",
    "\n",
    "new_handles = []\n",
    "for tissue in train_test_tissues:\n",
    "    col = train_test_tissues_to_columns[tissue][0]\n",
    "    color = tt_color_dict[col]\n",
    "    patch = mpatches.Patch(color=color, label=tissue.replace(\"_\", \" \"))\n",
    "    new_handles.append(patch)\n",
    "    \n",
    "lgd = ax.legend(handles=new_handles, loc=2, bbox_to_anchor=(1, 1), ncol=1)\n",
    "\n",
    "output_path = train_test_dir + 'Zoomed PCA.pdf'\n",
    "plt.show()\n",
    "fig.savefig(output_path, bbox_inches=\"tight\", bbox_extra_artists=(lgd,), dpi=DPI)\n",
    "plt.clf()"
   ]
  },
  {
   "cell_type": "markdown",
   "metadata": {},
   "source": [
    "### tSNE (Fig2)\n",
    "* Modified from https://github.com/RubensZimbres/Repo-2017/blob/master/t-SNE%20Dimensionality%20Reduction"
   ]
  },
  {
   "cell_type": "code",
   "execution_count": null,
   "metadata": {},
   "outputs": [],
   "source": [
    "X = train_test_df.T.values.tolist()\n",
    "y = train_test_labels\n",
    "\n",
    "xx=[]\n",
    "for i in range(0,len(X)):\n",
    "    xx.append((X[i] - np.min(X)) / (np.max(X) - np.min(X)))\n",
    "X=xx\n",
    "\n",
    "# \"It is highly recommended to use another dimensionality reduction method (e.g. PCA for dense data or TruncatedSVD for sparse data) to reduce the number of dimensions to a reasonable amount\"\n",
    "svd = TruncatedSVD(n_components=50, n_iter=100, random_state=42)\n",
    "X_svd = svd.fit_transform(X)  \n",
    "\n",
    "tsne = manifold.TSNE(random_state=0,perplexity=50,n_iter=1500)\n",
    "X_tsne = tsne.fit_transform(X_svd)"
   ]
  },
  {
   "cell_type": "code",
   "execution_count": null,
   "metadata": {},
   "outputs": [],
   "source": [
    "### Plot the data\n",
    "\n",
    "fig = plt.figure(1, figsize=(8,5))\n",
    "ax = fig.add_subplot(111)\n",
    "\n",
    "col=0\n",
    "for column in train_test_column_names:\n",
    "    ax.scatter(X_tsne[col, 0], X_tsne[col, 1], color=tt_color_dict[column])\n",
    "    col+=1\n",
    "      \n",
    "### Make Legend\n",
    "new_handles = []\n",
    "for tissue in train_test_tissues:\n",
    "    col = train_test_tissues_to_columns[tissue][0]\n",
    "    color = tt_color_dict[col]\n",
    "    patch = mpatches.Patch(color=color, label=tissue.replace(\"_\", \" \"))\n",
    "    new_handles.append(patch)\n",
    "    \n",
    "lgd = ax.legend(handles=new_handles, loc=2, bbox_to_anchor=(1, 1), ncol=1)    \n",
    "plt.xticks(fontsize=8)\n",
    "plt.yticks(fontsize=8)\n",
    "plt.xlabel('t-SNE dimension 1')\n",
    "plt.ylabel('t-SNE dimension 2')\n",
    "\n",
    "output_path = train_test_dir + 'tSNE.pdf'\n",
    "fig.savefig(output_path, bbox_inches=\"tight\", bbox_extra_artists=(lgd,), dpi=DPI)\n",
    "plt.show()"
   ]
  },
  {
   "cell_type": "markdown",
   "metadata": {},
   "source": [
    "## Healthy and Diseased Data"
   ]
  },
  {
   "cell_type": "markdown",
   "metadata": {},
   "source": [
    "### Map each column to a corresponding label"
   ]
  },
  {
   "cell_type": "code",
   "execution_count": null,
   "metadata": {},
   "outputs": [],
   "source": [
    "\"\"\"\n",
    "Removes 'Healthy_' or 'Diseased_' prefix from column names\n",
    "\n",
    "Args:\n",
    "    col_names (list of strings): list of column names in the dataframe\n",
    "    \n",
    "Returns: \n",
    "    list of strings, where each string is the original column name without the healthy/diseased prefix, if there was a one\n",
    "\"\"\"\n",
    "def remove_prefix(col_names):\n",
    "    new_names = []\n",
    "    \n",
    "    for name in col_names:\n",
    "        if name.startswith('Diseased_'):\n",
    "            new_names.append(name.replace('Diseased_', ''))\n",
    "        elif name.startswith('Healthy_'):\n",
    "            new_names.append(name.replace('Healthy_', ''))\n",
    "        else:\n",
    "            new_names.append(name)\n",
    "            \n",
    "    return new_names"
   ]
  },
  {
   "cell_type": "code",
   "execution_count": null,
   "metadata": {},
   "outputs": [],
   "source": [
    "# Remove \"Healthy_\" or \"Diseased_\" prefix from column names\n",
    "# Store prefixed names for later identification of each sample\n",
    "original_healthy_diseased_col_names = healthy_diseased_df.columns.values.tolist()\n",
    "\n",
    "stripped_col_names = remove_prefix(original_healthy_diseased_col_names)\n",
    "healthy_diseased_df.columns = stripped_col_names"
   ]
  },
  {
   "cell_type": "code",
   "execution_count": null,
   "metadata": {},
   "outputs": [],
   "source": [
    "healthy_diseased_tissues = ['Blood_Plasma', 'CSF', 'Liver', 'Ovary', 'Pancreas', 'Substantia_Nigra']\n",
    "healthy_diseased_tissues_to_columns = cu.map_tissues_to_columns(healthy_diseased_df,\n",
    "                                                                healthy_diseased_tissues)"
   ]
  },
  {
   "cell_type": "code",
   "execution_count": null,
   "metadata": {},
   "outputs": [],
   "source": [
    "healthy_diseased_column_names = healthy_diseased_df.columns.values.tolist()\n",
    "healthy_diseased_labels = cu.get_labels(healthy_diseased_column_names, \n",
    "                                        healthy_diseased_tissues_to_columns)"
   ]
  },
  {
   "cell_type": "markdown",
   "metadata": {},
   "source": [
    "### Map columns to colors, and prepare PCA dataframe"
   ]
  },
  {
   "cell_type": "code",
   "execution_count": null,
   "metadata": {},
   "outputs": [],
   "source": [
    "healthy_diseased_dir = r'D:\\Images\\Healthy_vs_Diseased\\\\'\n",
    "\n",
    "hd_color_dict = tt_color_dict"
   ]
  },
  {
   "cell_type": "code",
   "execution_count": null,
   "metadata": {},
   "outputs": [],
   "source": [
    "healthy_diseased_T = healthy_diseased_df.T  #Transpose data frame\n",
    "\n",
    "healthy_diseased_pca = PCA() # create a PCA object\n",
    "healthy_diseased_pca.fit(healthy_diseased_T) # do the math\n",
    "healthy_diseased_pca_data = healthy_diseased_pca.transform(healthy_diseased_T) # get PCA coordinates for dataframe\n",
    "\n",
    "healthy_diseased_per_var = np.round(healthy_diseased_pca.explained_variance_ratio_* 100, decimals = 1)\n",
    "healthy_diseased_pca_labels = ['PC' + str(x) for x in range(1, len(healthy_diseased_per_var)+1)] "
   ]
  },
  {
   "cell_type": "markdown",
   "metadata": {},
   "source": [
    "### Plot Healthy vs Diseased \n",
    "Empty circles represent diseased tissues, filled circles represent healthy"
   ]
  },
  {
   "cell_type": "code",
   "execution_count": null,
   "metadata": {},
   "outputs": [],
   "source": [
    "hd_pca_df = pd.DataFrame(healthy_diseased_pca_data, index = original_healthy_diseased_col_names, \n",
    "                         columns = healthy_diseased_pca_labels)\n",
    "\n",
    "plt.rcParams[\"font.family\"] = \"Arial\"\n",
    "plt.rcParams[\"font.size\"] = 10\n",
    "\n",
    "fig = plt.figure(1)\n",
    "ax = fig.add_subplot(111)\n",
    "\n",
    "plt.xlabel('PC1 - {0}%'.format(healthy_diseased_per_var[0]))\n",
    "plt.ylabel('PC2 - {0}%'.format(healthy_diseased_per_var[1]))\n",
    "\n",
    "for column, stripped_col in zip(original_healthy_diseased_col_names, stripped_col_names):\n",
    "    fill = 'none' if column.startswith('Diseased') else hd_color_dict[stripped_col]\n",
    "    ax.scatter(hd_pca_df.PC1.loc[column], \n",
    "               hd_pca_df.PC2.loc[column],\n",
    "               color=hd_color_dict[stripped_col], facecolors=fill)\n",
    "    \n",
    "output_path = healthy_diseased_dir + 'PCA.pdf'\n",
    "\n",
    "### Legend entries for each tissue\n",
    "new_handles = []\n",
    "\n",
    "for tissue in healthy_diseased_tissues:\n",
    "    col = healthy_diseased_tissues_to_columns[tissue][0]\n",
    "    color = hd_color_dict[col]\n",
    "    patch = mpatches.Patch(color=color, label=tissue.replace('_', ' '))\n",
    "    line = Line2D(range(1), range(1), color=\"white\", mec=color, marker='o', markerfacecolor=color,\n",
    "                  label=tissue)\n",
    "    new_handles.append(patch)\n",
    "\n",
    "### Append legend entries for open/closed circles (diseased/healthy)\n",
    "blank_line = Line2D(range(1), range(1), color=\"white\", marker='o', markerfacecolor=\"white\")\n",
    "open_circle = Line2D(range(1), range(1), color=\"white\", marker='o', markerfacecolor=\"black\",\n",
    "                     mec='black', label='Closed Circles: Healthy')\n",
    "closed_circle = Line2D(range(1), range(1), color=\"white\", marker='o', markerfacecolor=\"white\",\n",
    "                       mec='black', label='Open Circles: Diseased')\n",
    "\n",
    "new_handles.append(blank_line)\n",
    "new_handles.append(open_circle)\n",
    "new_handles.append(closed_circle)\n",
    "    \n",
    "### Zoom in on tightly clustered section\n",
    "axins = zoomed_inset_axes(ax, 10, loc='center right') # axes, zoom-factor, location\n",
    "\n",
    "for column, stripped_col in zip(original_healthy_diseased_col_names, stripped_col_names):\n",
    "    fill = 'none' if column.startswith('Diseased') else hd_color_dict[stripped_col]\n",
    "    axins.scatter(hd_pca_df.PC1.loc[column], \n",
    "                  hd_pca_df.PC2.loc[column], \n",
    "                  color=hd_color_dict[stripped_col], facecolors=fill)\n",
    "\n",
    "x1, x2, y1, y2 = -950, -830, -30, 150 # specify the axis limits\n",
    "axins.set_xlim(x1, x2) # apply the x-limits\n",
    "axins.set_ylim(y1, y2) # apply the y-limits\n",
    "\n",
    "plt.yticks(visible=False)\n",
    "plt.xticks(visible=False)\n",
    "\n",
    "mark_inset(ax, axins, loc1=2, loc2=4, fc=\"none\", ec=\"0.5\")\n",
    "    \n",
    "lgd = ax.legend(handles=new_handles, loc=2, bbox_to_anchor=(1, 1), ncol=1, prop={'size': 7})\n",
    "\n",
    "fig.savefig(output_path, bbox_inches=\"tight\", bbox_extra_artists=(lgd,), dpi=DPI)\n",
    "plt.show()\n",
    "fig.clf()"
   ]
  },
  {
   "cell_type": "markdown",
   "metadata": {},
   "source": [
    "### Healthy vs Diseased tSNE (Fig3)"
   ]
  },
  {
   "cell_type": "code",
   "execution_count": null,
   "metadata": {},
   "outputs": [],
   "source": [
    "X = healthy_diseased_df.T.values.tolist()\n",
    "y = healthy_diseased_labels\n",
    "\n",
    "xx=[]\n",
    "for i in range(0,len(X)):\n",
    "    xx.append((X[i] - np.min(X)) / (np.max(X) - np.min(X)))\n",
    "X=xx\n",
    "\n",
    "# \"It is highly recommended to use another dimensionality reduction method (e.g. PCA for dense data or TruncatedSVD for sparse data) to reduce the number of dimensions to a reasonable amount\"\n",
    "svd = TruncatedSVD(n_components=50, n_iter=100, random_state=42)\n",
    "X_svd = svd.fit_transform(X)  \n",
    "\n",
    "tsne = manifold.TSNE(random_state=0,perplexity=50,n_iter=1500)\n",
    "X_tsne = tsne.fit_transform(X_svd)"
   ]
  },
  {
   "cell_type": "code",
   "execution_count": null,
   "metadata": {},
   "outputs": [],
   "source": [
    "### Plot the data\n",
    "fig = plt.figure(1, figsize=(8,5))\n",
    "ax = fig.add_subplot(111)\n",
    "\n",
    "col=0\n",
    "for column, stripped_col in zip(original_healthy_diseased_col_names, stripped_col_names):\n",
    "    fill = 'none' if column.startswith('Diseased') else hd_color_dict[stripped_col]\n",
    "    ax.scatter(X_tsne[col, 0], X_tsne[col, 1], edgecolors=hd_color_dict[stripped_col], facecolors=fill)\n",
    "    col+=1\n",
    "    \n",
    "### Make Legend\n",
    "new_handles = []\n",
    "\n",
    "for tissue in healthy_diseased_tissues:\n",
    "    col = healthy_diseased_tissues_to_columns[tissue][0]\n",
    "    color = hd_color_dict[col]\n",
    "    patch = mpatches.Patch(color=color, label=tissue.replace(\"_\", \" \"))\n",
    "    line = Line2D(range(1), range(1), color=\"white\", mec=color, marker='o', markerfacecolor=color,\n",
    "                  label=tissue)\n",
    "    new_handles.append(patch)\n",
    "\n",
    "### Append legend entries for open/closed circles (diseased/healthy)\n",
    "blank_line = Line2D(range(1), range(1), color=\"white\", marker='o', markerfacecolor=\"white\")\n",
    "open_circle = Line2D(range(1), range(1), color=\"white\", marker='o', markerfacecolor=\"black\",\n",
    "                     mec='black', label='Closed Circles: Healthy')\n",
    "closed_circle = Line2D(range(1), range(1), color=\"white\", marker='o', markerfacecolor=\"white\",\n",
    "                       mec='black', label='Open Circles: Diseased')\n",
    "\n",
    "new_handles.append(blank_line)\n",
    "new_handles.append(open_circle)\n",
    "new_handles.append(closed_circle)\n",
    "    \n",
    "lgd = ax.legend(handles=new_handles, loc=2, bbox_to_anchor=(1, 1), ncol=1)    \n",
    "plt.xticks(fontsize=8)\n",
    "plt.yticks(fontsize=8)\n",
    "plt.xlabel('t-SNE dimension 1')\n",
    "plt.ylabel('t-SNE dimension 2')\n",
    "\n",
    "output_path = healthy_diseased_dir + 'Healthy_Diseased_tSNE.pdf'\n",
    "fig.savefig(output_path, bbox_inches=\"tight\", bbox_extra_artists=(lgd,), dpi=DPI)\n",
    "\n",
    "plt.show()"
   ]
  },
  {
   "cell_type": "markdown",
   "metadata": {},
   "source": [
    "## Cell Line Data "
   ]
  },
  {
   "cell_type": "markdown",
   "metadata": {},
   "source": [
    "### Map each column to a corresponding label"
   ]
  },
  {
   "cell_type": "code",
   "execution_count": null,
   "metadata": {},
   "outputs": [],
   "source": [
    "tt_cell_line_tissues = ['Blood_Plasma', 'Blood_Serum', 'CSF', 'Liver', 'Monocyte', 'Ovary', 'Pancreas', 'Substantia_Nigra', 'Temporal_Lobe', 'Cell_Line']\n",
    "\n",
    "tt_cell_line_tissues_to_columns = cu.map_tissues_to_columns(tt_cell_line_df, tt_cell_line_tissues)"
   ]
  },
  {
   "cell_type": "code",
   "execution_count": null,
   "metadata": {},
   "outputs": [],
   "source": [
    "tt_cell_line_column_names = tt_cell_line_df.columns.values.tolist()\n",
    "tt_cell_line_labels = cu.get_labels(tt_cell_line_column_names, tt_cell_line_tissues_to_columns)"
   ]
  },
  {
   "cell_type": "markdown",
   "metadata": {},
   "source": [
    "### Map columns to colors, and prepare PCA data frames"
   ]
  },
  {
   "cell_type": "code",
   "execution_count": null,
   "metadata": {},
   "outputs": [],
   "source": [
    "cell_line_dir = r'D:\\Images\\Cell_Line\\\\'\n",
    "\n",
    "cell_line_cols = [col for col in tt_cell_line_df if col.startswith('Cell_Line')]\n",
    "\n",
    "tt_cell_line_color_dict = {}\n",
    "for col in cell_line_cols:\n",
    "    tt_cell_line_color_dict[col] = 'gray'\n",
    "    \n",
    "tt_cell_line_color_dict.update(tt_color_dict)"
   ]
  },
  {
   "cell_type": "code",
   "execution_count": null,
   "metadata": {},
   "outputs": [],
   "source": [
    "tt_cell_line_T = tt_cell_line_df.T  #Transpose data frame\n",
    "\n",
    "tt_cell_line_pca = PCA() # create a PCA object\n",
    "tt_cell_line_pca.fit(tt_cell_line_T) # do the math\n",
    "tt_cell_line_pca_data = tt_cell_line_pca.transform(tt_cell_line_T) # get PCA coordinates for dataframe\n",
    "\n",
    "tt_cell_line_per_var = np.round(tt_cell_line_pca.explained_variance_ratio_* 100, decimals = 1)\n",
    "tt_cell_line_pca_labels = ['PC' + str(x) for x in range(1, len(tt_cell_line_per_var)+1)] "
   ]
  },
  {
   "cell_type": "markdown",
   "metadata": {},
   "source": [
    "### PCA of all train and test tissues with liver cell line samples"
   ]
  },
  {
   "cell_type": "code",
   "execution_count": null,
   "metadata": {},
   "outputs": [],
   "source": [
    "def draw_2d_pca(column_names, pca_data, base_dir, \n",
    "                color_dict, per_var, labels, \n",
    "                tissues, tissues_to_columns):\n",
    "    \n",
    "    pca_df = pd.DataFrame(pca_data, index = column_names, columns = labels)\n",
    "\n",
    "    fig = plt.figure(1)\n",
    "    ax = fig.add_subplot(111)\n",
    "\n",
    "    plt.xlabel('PC1 - {0}%'.format(per_var[0]))\n",
    "    plt.ylabel('PC2 - {0}%'.format(per_var[1]))\n",
    " \n",
    "    for column in column_names:\n",
    "        ax.scatter(pca_df.PC1.loc[column], pca_df.PC2.loc[column], color=color_dict[column])\n",
    "        \n",
    "    new_handles = []\n",
    "    for tissue in tissues:\n",
    "        col = tissues_to_columns[tissue][0]\n",
    "        color = color_dict[col]\n",
    "        patch = mpatches.Patch(color=color, label=tissue.replace(\"_\", \" \"))\n",
    "        new_handles.append(patch)\n",
    "    \n",
    "    output_path = base_dir + 'PCA.pdf'\n",
    "    lgd = ax.legend(handles=new_handles, loc=2, bbox_to_anchor=(1, 1), ncol=1)\n",
    "    fig.savefig(output_path, bbox_inches=\"tight\", bbox_extra_artists=(lgd,), dpi=DPI)\n",
    "    fig.clf()"
   ]
  },
  {
   "cell_type": "code",
   "execution_count": null,
   "metadata": {},
   "outputs": [],
   "source": [
    "draw_2d_pca(tt_cell_line_column_names, tt_cell_line_pca_data, cell_line_dir, \n",
    "            tt_cell_line_color_dict, tt_cell_line_per_var, tt_cell_line_pca_labels, \n",
    "            tt_cell_line_tissues, tt_cell_line_tissues_to_columns)"
   ]
  },
  {
   "cell_type": "markdown",
   "metadata": {},
   "source": [
    "## tSNE of train and test tissues with liver cell line (Fig7)"
   ]
  },
  {
   "cell_type": "code",
   "execution_count": null,
   "metadata": {},
   "outputs": [],
   "source": [
    "cell_line_X = tt_cell_line_df.T.values.tolist()\n",
    "cell_line_y = tt_cell_line_labels\n",
    "\n",
    "cell_line_xx = []\n",
    "for i in range(0,len(cell_line_X)):\n",
    "    cell_line_xx.append((cell_line_X[i] - np.min(cell_line_X)) / (np.max(cell_line_X) - np.min(cell_line_X)))\n",
    "cell_line_X = cell_line_xx\n",
    "\n",
    "svd = TruncatedSVD(n_components=50, n_iter=100, random_state=42)\n",
    "cell_line_X_svd = svd.fit_transform(cell_line_X)  \n",
    "\n",
    "tsne = manifold.TSNE(random_state=0,perplexity=50,n_iter=1500)\n",
    "cell_line_X_tsne = tsne.fit_transform(cell_line_X_svd)"
   ]
  },
  {
   "cell_type": "code",
   "execution_count": null,
   "metadata": {},
   "outputs": [],
   "source": [
    "### Plot the data\n",
    "fig = plt.figure(1, figsize=(8,5))\n",
    "ax = fig.add_subplot(111)\n",
    "\n",
    "col=0\n",
    "for column in tt_cell_line_column_names:\n",
    "    ax.scatter(cell_line_X_tsne[col, 0], cell_line_X_tsne[col, 1], color=tt_cell_line_color_dict[column])\n",
    "    col+=1\n",
    "      \n",
    "### Make Legend\n",
    "new_handles = []\n",
    "for tissue in tt_cell_line_tissues:\n",
    "    col = tt_cell_line_tissues_to_columns[tissue][0]\n",
    "    color = tt_cell_line_color_dict[col]\n",
    "    patch = mpatches.Patch(color=color, label=tissue.replace(\"_\", \" \"))\n",
    "    new_handles.append(patch)\n",
    "    \n",
    "lgd = ax.legend(handles=new_handles, loc=2, bbox_to_anchor=(1, 1), ncol=1)    \n",
    "plt.xticks(fontsize=8)\n",
    "plt.yticks(fontsize=8)\n",
    "plt.xlabel('t-SNE dimension 1')\n",
    "plt.ylabel('t-SNE dimension 2')\n",
    "\n",
    "plt.show()\n",
    "\n",
    "output_path = cell_line_dir + 'tSNE_with_cell_line.pdf'\n",
    "fig.savefig(output_path, bbox_inches=\"tight\", bbox_extra_artists=(lgd,), dpi=DPI)"
   ]
  }
 ],
 "metadata": {
  "kernelspec": {
   "display_name": "Python 3",
   "language": "python",
   "name": "python3"
  },
  "language_info": {
   "codemirror_mode": {
    "name": "ipython",
    "version": 3
   },
   "file_extension": ".py",
   "mimetype": "text/x-python",
   "name": "python",
   "nbconvert_exporter": "python",
   "pygments_lexer": "ipython3",
   "version": "3.6.5"
  },
  "toc": {
   "nav_menu": {},
   "number_sections": true,
   "sideBar": true,
   "skip_h1_title": true,
   "toc_cell": false,
   "toc_position": {},
   "toc_section_display": "block",
   "toc_window_display": false
  }
 },
 "nbformat": 4,
 "nbformat_minor": 2
}
